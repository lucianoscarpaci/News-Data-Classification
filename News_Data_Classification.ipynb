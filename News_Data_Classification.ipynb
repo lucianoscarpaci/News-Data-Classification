{
  "nbformat": 4,
  "nbformat_minor": 0,
  "metadata": {
    "colab": {
      "provenance": []
    },
    "kernelspec": {
      "name": "python3",
      "display_name": "Python 3"
    },
    "language_info": {
      "name": "python"
    }
  },
  "cells": [
    {
      "cell_type": "markdown",
      "source": [],
      "metadata": {
        "id": "WMv2VtCez3Nm"
      }
    },
    {
      "cell_type": "markdown",
      "source": [
        "## News Data Classification"
      ],
      "metadata": {
        "id": "y1_CeAQxz47h"
      }
    },
    {
      "cell_type": "markdown",
      "source": [
        "### The Reuters dataset"
      ],
      "metadata": {
        "id": "4VADPZdc0Eiw"
      }
    },
    {
      "cell_type": "markdown",
      "source": [
        "### Loading the Reuters dataset"
      ],
      "metadata": {
        "id": "_ROFpCkN0KDs"
      }
    },
    {
      "cell_type": "code",
      "source": [
        "from tensorflow.keras.datasets import reuters\n",
        "(train_data, train_labels), (test_data, test_labels) = reuters.load_data(\n",
        "    num_words=10000)"
      ],
      "metadata": {
        "id": "CrxZVugm0P_w"
      },
      "execution_count": 45,
      "outputs": []
    },
    {
      "cell_type": "code",
      "source": [
        "print(len(train_data))\n",
        "print(len(test_data))\n"
      ],
      "metadata": {
        "colab": {
          "base_uri": "https://localhost:8080/"
        },
        "id": "Kp1B5vAE0fyY",
        "outputId": "0b42db4f-9320-4ce2-c38b-48192e49b088"
      },
      "execution_count": 46,
      "outputs": [
        {
          "output_type": "stream",
          "name": "stdout",
          "text": [
            "8982\n",
            "2246\n"
          ]
        }
      ]
    },
    {
      "cell_type": "markdown",
      "source": [
        "## Print the train data"
      ],
      "metadata": {
        "id": "-LEI2cFG0rVp"
      }
    },
    {
      "cell_type": "code",
      "source": [
        "train_data[10]"
      ],
      "metadata": {
        "colab": {
          "base_uri": "https://localhost:8080/"
        },
        "id": "4GR3UWDE0wIR",
        "outputId": "e9a68c7c-8aef-47c7-ad7d-a5aa2b169dbd"
      },
      "execution_count": 47,
      "outputs": [
        {
          "output_type": "execute_result",
          "data": {
            "text/plain": [
              "[1,\n",
              " 245,\n",
              " 273,\n",
              " 207,\n",
              " 156,\n",
              " 53,\n",
              " 74,\n",
              " 160,\n",
              " 26,\n",
              " 14,\n",
              " 46,\n",
              " 296,\n",
              " 26,\n",
              " 39,\n",
              " 74,\n",
              " 2979,\n",
              " 3554,\n",
              " 14,\n",
              " 46,\n",
              " 4689,\n",
              " 4329,\n",
              " 86,\n",
              " 61,\n",
              " 3499,\n",
              " 4795,\n",
              " 14,\n",
              " 61,\n",
              " 451,\n",
              " 4329,\n",
              " 17,\n",
              " 12]"
            ]
          },
          "metadata": {},
          "execution_count": 47
        }
      ]
    },
    {
      "cell_type": "markdown",
      "source": [
        "## Decoding the newswires back to text"
      ],
      "metadata": {
        "id": "I3LaSFsp02fv"
      }
    },
    {
      "cell_type": "code",
      "source": [
        "word_index = reuters.get_word_index()\n",
        "reverse_word_index = dict([(value, key) for (key, value) in word_index.items()])\n",
        "decoded_newswire = \" \".join([reverse_word_index.get(i - 3, \"?\") for i in\n",
        "    train_data[0]])"
      ],
      "metadata": {
        "id": "09qc3P1008Vc"
      },
      "execution_count": 48,
      "outputs": []
    },
    {
      "cell_type": "code",
      "source": [
        "train_labels[10]"
      ],
      "metadata": {
        "colab": {
          "base_uri": "https://localhost:8080/"
        },
        "id": "pBucX93O0_m3",
        "outputId": "e853ed87-6583-4982-8b5d-58b87e6913ca"
      },
      "execution_count": 49,
      "outputs": [
        {
          "output_type": "execute_result",
          "data": {
            "text/plain": [
              "3"
            ]
          },
          "metadata": {},
          "execution_count": 49
        }
      ]
    },
    {
      "cell_type": "markdown",
      "source": [
        "## Preparing the data"
      ],
      "metadata": {
        "id": "6zj7aI9a1Cgp"
      }
    },
    {
      "cell_type": "markdown",
      "source": [
        "## Encoding the input data"
      ],
      "metadata": {
        "id": "avsPH28r1GRm"
      }
    },
    {
      "cell_type": "code",
      "source": [
        "import numpy as np\n",
        "def vectorize_sequences(sequences, dimension=10000):\n",
        "    results = np.zeros((len(sequences), dimension))\n",
        "    for i, sequence in enumerate(sequences):\n",
        "        for j in sequence:\n",
        "            results[i, j] = 1.\n",
        "    return results\n",
        "\n",
        "x_train = vectorize_sequences(train_data)\n",
        "x_test = vectorize_sequences(test_data)"
      ],
      "metadata": {
        "id": "Q6CXbREo1KFN"
      },
      "execution_count": 50,
      "outputs": []
    },
    {
      "cell_type": "code",
      "source": [
        "def to_one_hot(labels, dimension=46):\n",
        "    results = np.zeros((len(labels), dimension))\n",
        "    for i, label in enumerate(labels):\n",
        "        results[i, label] = 1.\n",
        "    return results\n",
        "y_train = to_one_hot(train_labels)\n",
        "y_test = to_one_hot(test_labels)"
      ],
      "metadata": {
        "id": "XPiVlxz31hFv"
      },
      "execution_count": 51,
      "outputs": []
    },
    {
      "cell_type": "code",
      "source": [
        "from tensorflow.keras.utils import to_categorical\n",
        "y_train = to_categorical(train_labels)\n",
        "y_test = to_categorical(test_labels)"
      ],
      "metadata": {
        "id": "HNkAG-o71ksK"
      },
      "execution_count": 52,
      "outputs": []
    },
    {
      "cell_type": "markdown",
      "source": [
        "## Building the model"
      ],
      "metadata": {
        "id": "J3QA6d4x1qSH"
      }
    },
    {
      "cell_type": "markdown",
      "source": [
        "## Model definition"
      ],
      "metadata": {
        "id": "XUoERZ0R1syN"
      }
    },
    {
      "cell_type": "code",
      "source": [
        "from tensorflow.keras import Sequential\n",
        "from tensorflow.keras.layers import Dense\n",
        "\n",
        "model = Sequential([\n",
        "    Dense(64, activation=\"relu\"),\n",
        "    Dense(64, activation=\"relu\"),\n",
        "    Dense(46, activation=\"softmax\")\n",
        "])"
      ],
      "metadata": {
        "id": "opeZlscl3O_e"
      },
      "execution_count": 53,
      "outputs": []
    },
    {
      "cell_type": "markdown",
      "source": [
        "## Compile the model"
      ],
      "metadata": {
        "id": "NSWKvWES110c"
      }
    },
    {
      "cell_type": "code",
      "source": [
        "model.compile(optimizer=\"Adam\",\n",
        "              loss=\"categorical_crossentropy\",\n",
        "              metrics=[\"accuracy\"])"
      ],
      "metadata": {
        "id": "EWswx95v10HW"
      },
      "execution_count": 54,
      "outputs": []
    },
    {
      "cell_type": "markdown",
      "source": [
        "## Validation"
      ],
      "metadata": {
        "id": "CPaIT3Jf18lU"
      }
    },
    {
      "cell_type": "markdown",
      "source": [
        "## Make a validation set"
      ],
      "metadata": {
        "id": "FU0axWQF2BvQ"
      }
    },
    {
      "cell_type": "code",
      "source": [
        "x_val = x_train[:1000]\n",
        "partial_x_train = x_train[1000:]\n",
        "y_val = y_train[:1000]\n",
        "partial_y_train = y_train[1000:]"
      ],
      "metadata": {
        "id": "qjtqgz-i2Fm9"
      },
      "execution_count": 55,
      "outputs": []
    },
    {
      "cell_type": "code",
      "source": [
        "print(f\"partial_x_train shape: {partial_x_train.shape}\")\n",
        "print(f\"partial_y_train shape: {partial_y_train.shape}\")\n",
        "print(f\"x_val shape: {x_val.shape}\")\n",
        "print(f\"y_val shape: {y_val.shape}\")"
      ],
      "metadata": {
        "colab": {
          "base_uri": "https://localhost:8080/"
        },
        "id": "mddTvIJd2f7V",
        "outputId": "486bd630-6a23-471d-fe75-c8e9957cdf97"
      },
      "execution_count": 56,
      "outputs": [
        {
          "output_type": "stream",
          "name": "stdout",
          "text": [
            "partial_x_train shape: (7982, 10000)\n",
            "partial_y_train shape: (7982, 46)\n",
            "x_val shape: (1000, 10000)\n",
            "y_val shape: (1000, 46)\n"
          ]
        }
      ]
    },
    {
      "cell_type": "markdown",
      "source": [
        "## Training the model"
      ],
      "metadata": {
        "id": "92xVQg8A2K20"
      }
    },
    {
      "cell_type": "code",
      "source": [
        "history = model.fit(partial_x_train,\n",
        "                    partial_y_train,\n",
        "                    epochs=15,\n",
        "                    batch_size=512,\n",
        "                    validation_data=(x_val, y_val))"
      ],
      "metadata": {
        "colab": {
          "base_uri": "https://localhost:8080/"
        },
        "id": "o6hJFKvl2NC_",
        "outputId": "fe6d7306-6f93-4905-fb1b-34a13a874ec1"
      },
      "execution_count": 57,
      "outputs": [
        {
          "output_type": "stream",
          "name": "stdout",
          "text": [
            "Epoch 1/15\n",
            "\u001b[1m16/16\u001b[0m \u001b[32m━━━━━━━━━━━━━━━━━━━━\u001b[0m\u001b[37m\u001b[0m \u001b[1m2s\u001b[0m 71ms/step - accuracy: 0.3530 - loss: 3.5533 - val_accuracy: 0.5630 - val_loss: 2.4763\n",
            "Epoch 2/15\n",
            "\u001b[1m16/16\u001b[0m \u001b[32m━━━━━━━━━━━━━━━━━━━━\u001b[0m\u001b[37m\u001b[0m \u001b[1m1s\u001b[0m 55ms/step - accuracy: 0.6024 - loss: 2.1444 - val_accuracy: 0.6450 - val_loss: 1.6191\n",
            "Epoch 3/15\n",
            "\u001b[1m16/16\u001b[0m \u001b[32m━━━━━━━━━━━━━━━━━━━━\u001b[0m\u001b[37m\u001b[0m \u001b[1m2s\u001b[0m 84ms/step - accuracy: 0.7110 - loss: 1.4077 - val_accuracy: 0.7250 - val_loss: 1.2884\n",
            "Epoch 4/15\n",
            "\u001b[1m16/16\u001b[0m \u001b[32m━━━━━━━━━━━━━━━━━━━━\u001b[0m\u001b[37m\u001b[0m \u001b[1m3s\u001b[0m 91ms/step - accuracy: 0.7705 - loss: 1.0660 - val_accuracy: 0.7570 - val_loss: 1.1393\n",
            "Epoch 5/15\n",
            "\u001b[1m16/16\u001b[0m \u001b[32m━━━━━━━━━━━━━━━━━━━━\u001b[0m\u001b[37m\u001b[0m \u001b[1m3s\u001b[0m 148ms/step - accuracy: 0.8289 - loss: 0.8147 - val_accuracy: 0.7750 - val_loss: 1.0622\n",
            "Epoch 6/15\n",
            "\u001b[1m16/16\u001b[0m \u001b[32m━━━━━━━━━━━━━━━━━━━━\u001b[0m\u001b[37m\u001b[0m \u001b[1m4s\u001b[0m 61ms/step - accuracy: 0.8530 - loss: 0.6741 - val_accuracy: 0.7920 - val_loss: 0.9897\n",
            "Epoch 7/15\n",
            "\u001b[1m16/16\u001b[0m \u001b[32m━━━━━━━━━━━━━━━━━━━━\u001b[0m\u001b[37m\u001b[0m \u001b[1m1s\u001b[0m 61ms/step - accuracy: 0.8923 - loss: 0.5159 - val_accuracy: 0.8030 - val_loss: 0.9435\n",
            "Epoch 8/15\n",
            "\u001b[1m16/16\u001b[0m \u001b[32m━━━━━━━━━━━━━━━━━━━━\u001b[0m\u001b[37m\u001b[0m \u001b[1m1s\u001b[0m 60ms/step - accuracy: 0.9095 - loss: 0.4191 - val_accuracy: 0.8140 - val_loss: 0.9176\n",
            "Epoch 9/15\n",
            "\u001b[1m16/16\u001b[0m \u001b[32m━━━━━━━━━━━━━━━━━━━━\u001b[0m\u001b[37m\u001b[0m \u001b[1m1s\u001b[0m 54ms/step - accuracy: 0.9322 - loss: 0.3246 - val_accuracy: 0.8200 - val_loss: 0.8994\n",
            "Epoch 10/15\n",
            "\u001b[1m16/16\u001b[0m \u001b[32m━━━━━━━━━━━━━━━━━━━━\u001b[0m\u001b[37m\u001b[0m \u001b[1m1s\u001b[0m 53ms/step - accuracy: 0.9453 - loss: 0.2584 - val_accuracy: 0.8180 - val_loss: 0.9101\n",
            "Epoch 11/15\n",
            "\u001b[1m16/16\u001b[0m \u001b[32m━━━━━━━━━━━━━━━━━━━━\u001b[0m\u001b[37m\u001b[0m \u001b[1m1s\u001b[0m 55ms/step - accuracy: 0.9520 - loss: 0.2046 - val_accuracy: 0.8240 - val_loss: 0.9034\n",
            "Epoch 12/15\n",
            "\u001b[1m16/16\u001b[0m \u001b[32m━━━━━━━━━━━━━━━━━━━━\u001b[0m\u001b[37m\u001b[0m \u001b[1m1s\u001b[0m 56ms/step - accuracy: 0.9572 - loss: 0.1747 - val_accuracy: 0.8140 - val_loss: 0.9260\n",
            "Epoch 13/15\n",
            "\u001b[1m16/16\u001b[0m \u001b[32m━━━━━━━━━━━━━━━━━━━━\u001b[0m\u001b[37m\u001b[0m \u001b[1m1s\u001b[0m 55ms/step - accuracy: 0.9565 - loss: 0.1518 - val_accuracy: 0.8180 - val_loss: 0.9363\n",
            "Epoch 14/15\n",
            "\u001b[1m16/16\u001b[0m \u001b[32m━━━━━━━━━━━━━━━━━━━━\u001b[0m\u001b[37m\u001b[0m \u001b[1m2s\u001b[0m 86ms/step - accuracy: 0.9616 - loss: 0.1392 - val_accuracy: 0.8080 - val_loss: 0.9617\n",
            "Epoch 15/15\n",
            "\u001b[1m16/16\u001b[0m \u001b[32m━━━━━━━━━━━━━━━━━━━━\u001b[0m\u001b[37m\u001b[0m \u001b[1m1s\u001b[0m 90ms/step - accuracy: 0.9593 - loss: 0.1256 - val_accuracy: 0.8180 - val_loss: 0.9523\n"
          ]
        }
      ]
    },
    {
      "cell_type": "markdown",
      "source": [
        "## Plot the training and validation loss"
      ],
      "metadata": {
        "id": "dVOAgJm23xrG"
      }
    },
    {
      "cell_type": "code",
      "source": [
        "import matplotlib.pyplot as plt\n",
        "\n",
        "loss = history.history[\"loss\"]\n",
        "val_loss = history.history[\"val_loss\"]\n",
        "epochs = range(1, len(loss) + 1)\n",
        "plt.plot(epochs, loss, \"bo\", label=\"Training loss\")\n",
        "plt.plot(epochs, val_loss, \"b\", label=\"Validation loss\")\n",
        "plt.title(\"Training and validation loss\")\n",
        "plt.xlabel(\"Epochs\")\n",
        "plt.ylabel(\"Loss\")\n",
        "plt.legend()\n",
        "plt.show()"
      ],
      "metadata": {
        "colab": {
          "base_uri": "https://localhost:8080/",
          "height": 472
        },
        "id": "S2_CR0lH3vyr",
        "outputId": "2597ae7b-280d-4dd8-d769-2746209c5ed3"
      },
      "execution_count": 58,
      "outputs": [
        {
          "output_type": "display_data",
          "data": {
            "text/plain": [
              "<Figure size 640x480 with 1 Axes>"
            ],
            "image/png": "[encoded data removed]"
          },
          "metadata": {}
        }
      ]
    },
    {
      "cell_type": "markdown",
      "source": [
        "## Plot the training and validation accuracy"
      ],
      "metadata": {
        "id": "i5YRdh8C4W_S"
      }
    },
    {
      "cell_type": "code",
      "source": [
        "plt.clf()\n",
        "acc = history.history[\"accuracy\"]\n",
        "val_acc = history.history[\"val_accuracy\"]\n",
        "plt.plot(epochs, acc, \"bo\", label=\"Training accuracy\")\n",
        "plt.plot(epochs, val_acc, \"b\", label=\"Validation accuracy\")\n",
        "plt.title(\"Training and validation accuracy\")\n",
        "plt.xlabel(\"Epochs\")\n",
        "plt.ylabel(\"Accuracy\")\n",
        "plt.legend()\n",
        "plt.show()"
      ],
      "metadata": {
        "colab": {
          "base_uri": "https://localhost:8080/",
          "height": 472
        },
        "id": "iQi53DzT4aRk",
        "outputId": "68b91e9f-730d-408f-effe-8f648ba1f1bb"
      },
      "execution_count": 59,
      "outputs": [
        {
          "output_type": "display_data",
          "data": {
            "text/plain": [
              "<Figure size 640x480 with 1 Axes>"
            ],
            "image/png": "[encoded data removed]"
          },
          "metadata": {}
        }
      ]
    },
    {
      "cell_type": "markdown",
      "source": [
        "## Model evaluation"
      ],
      "metadata": {
        "id": "yQ9JJQonANbM"
      }
    },
    {
      "cell_type": "code",
      "source": [
        "model.evaluate(x_val, y_val)"
      ],
      "metadata": {
        "colab": {
          "base_uri": "https://localhost:8080/"
        },
        "id": "9ZYOToGTATM0",
        "outputId": "b737da02-a7dc-4a2c-b64f-0bc72459f9e4"
      },
      "execution_count": 60,
      "outputs": [
        {
          "output_type": "stream",
          "name": "stdout",
          "text": [
            "\u001b[1m32/32\u001b[0m \u001b[32m━━━━━━━━━━━━━━━━━━━━\u001b[0m\u001b[37m\u001b[0m \u001b[1m0s\u001b[0m 3ms/step - accuracy: 0.8239 - loss: 0.9359\n"
          ]
        },
        {
          "output_type": "execute_result",
          "data": {
            "text/plain": [
              "[0.9522930979728699, 0.8180000185966492]"
            ]
          },
          "metadata": {},
          "execution_count": 60
        }
      ]
    },
    {
      "cell_type": "code",
      "source": [
        "from sklearn.metrics import confusion_matrix\n",
        "from sklearn import metrics\n",
        "import seaborn as sns\n",
        "\n",
        "(x_train, y_train), (x_test, y_test) = reuters.load_data()\n",
        "unique_classes = sorted(set(y_train))\n",
        "class_names = [f\"Class #{i}\" for i in unique_classes]\n",
        "y_true = np.argmax(y_val, 1)\n",
        "y_pred = np.argmax(model.predict(x_val), 1)\n",
        "print(metrics.classification_report(y_true, y_pred, target_names=class_names, labels=unique_classes, zero_division=0))\n",
        "print(\"Classification accuracy: %0.6f\" % metrics.accuracy_score(y_true, y_pred))"
      ],
      "metadata": {
        "colab": {
          "base_uri": "https://localhost:8080/"
        },
        "id": "ahDfOoAyB7nj",
        "outputId": "576b35dc-3659-4194-e2f6-1102296615d0"
      },
      "execution_count": 63,
      "outputs": [
        {
          "output_type": "stream",
          "name": "stdout",
          "text": [
            "\u001b[1m32/32\u001b[0m \u001b[32m━━━━━━━━━━━━━━━━━━━━\u001b[0m\u001b[37m\u001b[0m \u001b[1m0s\u001b[0m 4ms/step\n",
            "              precision    recall  f1-score   support\n",
            "\n",
            "    Class #0       1.00      0.33      0.50         6\n",
            "    Class #1       0.66      0.85      0.74        46\n",
            "    Class #2       0.56      0.62      0.59         8\n",
            "    Class #3       0.90      0.93      0.92       354\n",
            "    Class #4       0.84      0.88      0.86       222\n",
            "    Class #5       0.00      0.00      0.00         0\n",
            "    Class #6       1.00      0.33      0.50         3\n",
            "    Class #7       0.00      0.00      0.00         1\n",
            "    Class #8       0.56      0.53      0.55        17\n",
            "    Class #9       0.86      0.86      0.86        14\n",
            "   Class #10       0.76      0.76      0.76        17\n",
            "   Class #11       0.86      0.82      0.84        44\n",
            "   Class #12       1.00      0.30      0.46        10\n",
            "   Class #13       0.88      0.70      0.78        20\n",
            "   Class #14       0.33      0.33      0.33         3\n",
            "   Class #15       0.00      0.00      0.00         2\n",
            "   Class #16       0.74      0.83      0.78        47\n",
            "   Class #17       0.00      0.00      0.00         0\n",
            "   Class #18       0.86      0.75      0.80         8\n",
            "   Class #19       0.60      0.75      0.67        59\n",
            "   Class #20       0.70      0.56      0.62        25\n",
            "   Class #21       0.90      0.60      0.72        15\n",
            "   Class #22       0.00      0.00      0.00         3\n",
            "   Class #23       1.00      0.33      0.50         3\n",
            "   Class #24       1.00      0.25      0.40         4\n",
            "   Class #25       0.80      0.67      0.73         6\n",
            "   Class #26       1.00      1.00      1.00         2\n",
            "   Class #27       0.00      0.00      0.00         1\n",
            "   Class #28       0.88      0.78      0.82         9\n",
            "   Class #29       0.00      0.00      0.00         0\n",
            "   Class #30       0.86      1.00      0.92         6\n",
            "   Class #31       0.50      0.33      0.40         3\n",
            "   Class #32       1.00      0.67      0.80         3\n",
            "   Class #33       1.00      1.00      1.00         2\n",
            "   Class #34       0.71      1.00      0.83        10\n",
            "   Class #35       0.00      0.00      0.00         1\n",
            "   Class #36       0.50      0.50      0.50         4\n",
            "   Class #37       0.33      0.33      0.33         3\n",
            "   Class #38       0.00      0.00      0.00         2\n",
            "   Class #39       0.00      0.00      0.00         1\n",
            "   Class #40       1.00      0.20      0.33         5\n",
            "   Class #41       1.00      0.25      0.40         4\n",
            "   Class #42       1.00      0.33      0.50         3\n",
            "   Class #43       0.00      0.00      0.00         0\n",
            "   Class #44       0.00      0.00      0.00         0\n",
            "   Class #45       1.00      0.75      0.86         4\n",
            "\n",
            "    accuracy                           0.82      1000\n",
            "   macro avg       0.60      0.46      0.49      1000\n",
            "weighted avg       0.82      0.82      0.81      1000\n",
            "\n",
            "Classification accuracy: 0.818000\n"
          ]
        }
      ]
    }
  ]
}